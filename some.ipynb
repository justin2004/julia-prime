{
 "cells": [
  {
   "cell_type": "code",
   "execution_count": 4,
   "metadata": {
    "scrolled": true
   },
   "outputs": [
    {
     "name": "stderr",
     "output_type": "stream",
     "text": [
      "\u001b[32m\u001b[1m   Updating\u001b[22m\u001b[39m registry at `/srv/julia/pkg/registries/General`\n",
      "######################################################################### 100.0%\n",
      "\u001b[32m\u001b[1m  Resolving\u001b[22m\u001b[39m package versions...\n",
      "\u001b[32m\u001b[1m  Installed\u001b[22m\u001b[39m ReverseDiff ────────────────── v1.5.0\n",
      "\u001b[32m\u001b[1m  Installed\u001b[22m\u001b[39m OpenSpecFun_jll ────────────── v0.5.3+4\n",
      "\u001b[32m\u001b[1m  Installed\u001b[22m\u001b[39m CompilerSupportLibraries_jll ─ v0.3.4+0\n",
      "\u001b[32m\u001b[1m  Installed\u001b[22m\u001b[39m SpecialFunctions ───────────── v1.2.1\n",
      "\u001b[32m\u001b[1m  Installed\u001b[22m\u001b[39m DiffRules ──────────────────── v1.0.2\n",
      "\u001b[32m\u001b[1m  Installed\u001b[22m\u001b[39m MuladdMacro ────────────────── v0.2.2\n",
      "\u001b[32m\u001b[1m  Installed\u001b[22m\u001b[39m MacroTools ─────────────────── v0.5.6\n",
      "\u001b[32m\u001b[1m  Installed\u001b[22m\u001b[39m FunctionWrappers ───────────── v1.1.1\n",
      "\u001b[32m\u001b[1m  Installed\u001b[22m\u001b[39m StaticArrays ───────────────── v1.0.1\n",
      "\u001b[32m\u001b[1m  Installed\u001b[22m\u001b[39m DiffResults ────────────────── v1.0.3\n",
      "\u001b[32m\u001b[1m  Installed\u001b[22m\u001b[39m ChainRulesCore ─────────────── v0.9.24\n",
      "\u001b[32m\u001b[1m  Installed\u001b[22m\u001b[39m NaNMath ────────────────────── v0.3.5\n",
      "\u001b[32m\u001b[1m  Installed\u001b[22m\u001b[39m CommonSubexpressions ───────── v0.3.0\n",
      "\u001b[32m\u001b[1m  Installed\u001b[22m\u001b[39m ForwardDiff ────────────────── v0.10.14\n",
      "\u001b[32m\u001b[1mUpdating\u001b[22m\u001b[39m `~/Project.toml`\n",
      " \u001b[90m [37e2e3b7] \u001b[39m\u001b[92m+ ReverseDiff v1.5.0\u001b[39m\n",
      "\u001b[32m\u001b[1mUpdating\u001b[22m\u001b[39m `~/Manifest.toml`\n",
      " \u001b[90m [56f22d72] \u001b[39m\u001b[92m+ Artifacts v1.3.0\u001b[39m\n",
      " \u001b[90m [d360d2e6] \u001b[39m\u001b[92m+ ChainRulesCore v0.9.24\u001b[39m\n",
      " \u001b[90m [bbf7d656] \u001b[39m\u001b[92m+ CommonSubexpressions v0.3.0\u001b[39m\n",
      " \u001b[90m [e66e0078] \u001b[39m\u001b[92m+ CompilerSupportLibraries_jll v0.3.4+0\u001b[39m\n",
      " \u001b[90m [163ba53b] \u001b[39m\u001b[92m+ DiffResults v1.0.3\u001b[39m\n",
      " \u001b[90m [b552c78f] \u001b[39m\u001b[92m+ DiffRules v1.0.2\u001b[39m\n",
      " \u001b[90m [f6369f11] \u001b[39m\u001b[92m+ ForwardDiff v0.10.14\u001b[39m\n",
      " \u001b[90m [069b7b12] \u001b[39m\u001b[92m+ FunctionWrappers v1.1.1\u001b[39m\n",
      " \u001b[90m [692b3bcd] \u001b[39m\u001b[92m+ JLLWrappers v1.1.4\u001b[39m\n",
      " \u001b[90m [1914dd2f] \u001b[39m\u001b[92m+ MacroTools v0.5.6\u001b[39m\n",
      " \u001b[90m [46d2c3a1] \u001b[39m\u001b[92m+ MuladdMacro v0.2.2\u001b[39m\n",
      " \u001b[90m [77ba4419] \u001b[39m\u001b[92m+ NaNMath v0.3.5\u001b[39m\n",
      " \u001b[90m [efe28fd5] \u001b[39m\u001b[92m+ OpenSpecFun_jll v0.5.3+4\u001b[39m\n",
      " \u001b[90m [37e2e3b7] \u001b[39m\u001b[92m+ ReverseDiff v1.5.0\u001b[39m\n",
      " \u001b[90m [276daf66] \u001b[39m\u001b[92m+ SpecialFunctions v1.2.1\u001b[39m\n",
      " \u001b[90m [90137ffa] \u001b[39m\u001b[92m+ StaticArrays v1.0.1\u001b[39m\n",
      " \u001b[90m [2a0f44e3] \u001b[39m\u001b[92m+ Base64\u001b[39m\n",
      " \u001b[90m [ade2ca70] \u001b[39m\u001b[92m+ Dates\u001b[39m\n",
      " \u001b[90m [8ba89e20] \u001b[39m\u001b[92m+ Distributed\u001b[39m\n",
      " \u001b[90m [b77e0a4c] \u001b[39m\u001b[92m+ InteractiveUtils\u001b[39m\n",
      " \u001b[90m [76f85450] \u001b[39m\u001b[92m+ LibGit2\u001b[39m\n",
      " \u001b[90m [8f399da3] \u001b[39m\u001b[92m+ Libdl\u001b[39m\n",
      " \u001b[90m [37e2e46d] \u001b[39m\u001b[92m+ LinearAlgebra\u001b[39m\n",
      " \u001b[90m [56ddb016] \u001b[39m\u001b[92m+ Logging\u001b[39m\n",
      " \u001b[90m [d6f4376e] \u001b[39m\u001b[92m+ Markdown\u001b[39m\n",
      " \u001b[90m [44cfe95a] \u001b[39m\u001b[92m+ Pkg\u001b[39m\n",
      " \u001b[90m [de0858da] \u001b[39m\u001b[92m+ Printf\u001b[39m\n",
      " \u001b[90m [3fa0cd96] \u001b[39m\u001b[92m+ REPL\u001b[39m\n",
      " \u001b[90m [9a3f8284] \u001b[39m\u001b[92m+ Random\u001b[39m\n",
      " \u001b[90m [ea8e919c] \u001b[39m\u001b[92m+ SHA\u001b[39m\n",
      " \u001b[90m [9e88b42a] \u001b[39m\u001b[92m+ Serialization\u001b[39m\n",
      " \u001b[90m [6462fe0b] \u001b[39m\u001b[92m+ Sockets\u001b[39m\n",
      " \u001b[90m [2f01184e] \u001b[39m\u001b[92m+ SparseArrays\u001b[39m\n",
      " \u001b[90m [10745b16] \u001b[39m\u001b[92m+ Statistics\u001b[39m\n",
      " \u001b[90m [8dfed614] \u001b[39m\u001b[92m+ Test\u001b[39m\n",
      " \u001b[90m [cf7118a7] \u001b[39m\u001b[92m+ UUIDs\u001b[39m\n",
      " \u001b[90m [4ec0a83e] \u001b[39m\u001b[92m+ Unicode\u001b[39m\n"
     ]
    }
   ],
   "source": [
    "Pkg.add(\"ReverseDiff\")"
   ]
  },
  {
   "cell_type": "code",
   "execution_count": 3,
   "metadata": {},
   "outputs": [],
   "source": [
    "using Pkg"
   ]
  },
  {
   "cell_type": "code",
   "execution_count": 2,
   "metadata": {},
   "outputs": [
    {
     "data": {
      "text/plain": [
       "33"
      ]
     },
     "execution_count": 2,
     "metadata": {},
     "output_type": "execute_result"
    }
   ],
   "source": [
    "a=33"
   ]
  },
  {
   "cell_type": "code",
   "execution_count": 63,
   "metadata": {},
   "outputs": [
    {
     "data": {
      "text/plain": [
       "h (generic function with 1 method)"
      ]
     },
     "execution_count": 63,
     "metadata": {},
     "output_type": "execute_result"
    }
   ],
   "source": [
    "function f(a,b)\n",
    "    sum(a+b)\n",
    "end\n",
    "\n",
    "g(a, b) = sum(a' * b + a * b')\n",
    "h(a, b) = sum(a * b + a * b)\n",
    "h(a, b) = sum(a * b + a * b)"
   ]
  },
  {
   "cell_type": "code",
   "execution_count": 92,
   "metadata": {},
   "outputs": [
    {
     "data": {
      "text/plain": [
       "4"
      ]
     },
     "execution_count": 92,
     "metadata": {},
     "output_type": "execute_result"
    }
   ],
   "source": [
    "mod(10,6)"
   ]
  },
  {
   "cell_type": "code",
   "execution_count": 168,
   "metadata": {},
   "outputs": [
    {
     "data": {
      "text/plain": [
       "16"
      ]
     },
     "execution_count": 168,
     "metadata": {},
     "output_type": "execute_result"
    }
   ],
   "source": [
    "function wonder(n)\n",
    "    in=n\n",
    "    if mod(2,in/2)==0\n",
    "        Int64(round(in/2))\n",
    "    else\n",
    "        Int64(round(3*in+1))\n",
    "    end\n",
    "end\n",
    "function W(a)\n",
    "    sum(map(wonder,a))\n",
    "end\n",
    "wonder(5)\n",
    "# foreach(x -> println(x ^ 3), a) "
   ]
  },
  {
   "cell_type": "code",
   "execution_count": 171,
   "metadata": {
    "scrolled": true
   },
   "outputs": [
    {
     "data": {
      "text/plain": [
       "170"
      ]
     },
     "execution_count": 171,
     "metadata": {},
     "output_type": "execute_result"
    }
   ],
   "source": [
    "W([9 10 11 12 13])"
   ]
  },
  {
   "cell_type": "code",
   "execution_count": 169,
   "metadata": {},
   "outputs": [
    {
     "ename": "LoadError",
     "evalue": "InexactError: Int64(4.5)",
     "output_type": "error",
     "traceback": [
      "InexactError: Int64(4.5)",
      "",
      "Stacktrace:",
      " [1] Int64 at ./float.jl:710 [inlined]",
      " [2] convert at ./number.jl:7 [inlined]",
      " [3] value! at /srv/julia/pkg/packages/DiffResults/wASAy/src/DiffResults.jl:168 [inlined]",
      " [4] extract_value! at /srv/julia/pkg/packages/ForwardDiff/qTmqf/src/apiutils.jl:5 [inlined]",
      " [5] derivative! at /srv/julia/pkg/packages/ForwardDiff/qTmqf/src/derivative.jl:47 [inlined]",
      " [6] ForwardOptimize at /srv/julia/pkg/packages/ReverseDiff/vScHI/src/macros.jl:124 [inlined]",
      " [7] / at /srv/julia/pkg/packages/ReverseDiff/vScHI/src/derivatives/scalars.jl:12 [inlined]",
      " [8] wonder(::ReverseDiff.TrackedReal{Int64,Int64,ReverseDiff.TrackedArray{Int64,Int64,2,Array{Int64,2},Array{Int64,2}}}) at ./In[168]:3",
      " [9] iterate at ./generator.jl:47 [inlined]",
      " [10] _collect at ./array.jl:699 [inlined]",
      " [11] collect_similar at ./array.jl:628 [inlined]",
      " [12] map at ./abstractarray.jl:2162 [inlined]",
      " [13] W(::ReverseDiff.TrackedArray{Int64,Int64,2,Array{Int64,2},Array{Int64,2}}) at ./In[168]:10",
      " [14] GradientTape(::typeof(W), ::Array{Int64,2}, ::GradientConfig{ReverseDiff.TrackedArray{Int64,Int64,2,Array{Int64,2},Array{Int64,2}}}) at /srv/julia/pkg/packages/ReverseDiff/vScHI/src/api/tape.jl:199",
      " [15] gradient(::Function, ::Array{Int64,2}, ::GradientConfig{ReverseDiff.TrackedArray{Int64,Int64,2,Array{Int64,2},Array{Int64,2}}}) at /srv/julia/pkg/packages/ReverseDiff/vScHI/src/api/gradients.jl:22 (repeats 2 times)",
      " [16] top-level scope at In[169]:2",
      " [17] include_string(::Function, ::Module, ::String, ::String) at ./loading.jl:1091"
     ]
    }
   ],
   "source": [
    "W([3.3])\n",
    "gradient(W,[9 10 11 12 13])"
   ]
  },
  {
   "cell_type": "code",
   "execution_count": 62,
   "metadata": {},
   "outputs": [
    {
     "data": {
      "text/plain": [
       "36"
      ]
     },
     "execution_count": 62,
     "metadata": {},
     "output_type": "execute_result"
    }
   ],
   "source": [
    "sum(f([1 2 ; 3 4],[5 6 ; 7 8]))"
   ]
  },
  {
   "cell_type": "code",
   "execution_count": 79,
   "metadata": {},
   "outputs": [
    {
     "data": {
      "text/plain": [
       "2×2 Array{Float64,2}:\n",
       " 1.06248  1.47944\n",
       " 1.65192  2.39544"
      ]
     },
     "execution_count": 79,
     "metadata": {},
     "output_type": "execute_result"
    }
   ],
   "source": [
    "a' * b + a * b'"
   ]
  },
  {
   "cell_type": "code",
   "execution_count": 7,
   "metadata": {},
   "outputs": [
    {
     "data": {
      "text/plain": [
       "1×2 Array{Int64,2}:\n",
       " 10  30"
      ]
     },
     "execution_count": 7,
     "metadata": {},
     "output_type": "execute_result"
    }
   ],
   "source": [
    "[1 3] * 10"
   ]
  },
  {
   "cell_type": "code",
   "execution_count": 32,
   "metadata": {},
   "outputs": [
    {
     "data": {
      "text/plain": [
       "1×2 Array{Int64,2}:\n",
       " 15  18"
      ]
     },
     "execution_count": 32,
     "metadata": {},
     "output_type": "execute_result"
    }
   ],
   "source": [
    "f([5 6],[10 12])"
   ]
  },
  {
   "cell_type": "code",
   "execution_count": 85,
   "metadata": {},
   "outputs": [
    {
     "data": {
      "text/plain": [
       "2×3 Array{Int64,2}:\n",
       " 1  2  3\n",
       " 5  6  7"
      ]
     },
     "execution_count": 85,
     "metadata": {},
     "output_type": "execute_result"
    }
   ],
   "source": [
    "[1 2 3 ; 5 6 7]"
   ]
  },
  {
   "cell_type": "code",
   "execution_count": 71,
   "metadata": {},
   "outputs": [
    {
     "data": {
      "text/plain": [
       "12"
      ]
     },
     "execution_count": 71,
     "metadata": {},
     "output_type": "execute_result"
    }
   ],
   "source": [
    "h(2,3)"
   ]
  },
  {
   "cell_type": "code",
   "execution_count": 60,
   "metadata": {},
   "outputs": [
    {
     "data": {
      "text/plain": [
       "80"
      ]
     },
     "execution_count": 60,
     "metadata": {},
     "output_type": "execute_result"
    }
   ],
   "source": [
    "g(10,4)"
   ]
  },
  {
   "cell_type": "code",
   "execution_count": 30,
   "metadata": {},
   "outputs": [
    {
     "ename": "LoadError",
     "evalue": "syntax: invalid identifier name \"?\"",
     "output_type": "error",
     "traceback": [
      "syntax: invalid identifier name \"?\"",
      "",
      "Stacktrace:",
      " [1] top-level scope at In[30]:3",
      " [2] include_string(::Function, ::Module, ::String, ::String) at ./loading.jl:1091"
     ]
    }
   ],
   "source": [
    "using ReverseDiff: GradientTape, GradientConfig, gradient, gradient!, compile, DiffResults\n",
    "\n",
    "?cos"
   ]
  },
  {
   "cell_type": "code",
   "execution_count": 30,
   "metadata": {},
   "outputs": [
    {
     "name": "stdout",
     "output_type": "stream",
     "text": [
      "search:\n",
      "\n"
     ]
    },
    {
     "data": {
      "text/latex": [
       "\\begin{verbatim}\n",
       "ReverseDiff.gradient(f, input, cfg::GradientConfig = GradientConfig(input))\n",
       "\\end{verbatim}\n",
       "If \\texttt{input} is an \\texttt{AbstractArray}, assume \\texttt{f} has the form \\texttt{f(::AbstractArray\\{<:Real\\})::Real} and return \\texttt{∇f(input)}.\n",
       "\n",
       "If \\texttt{input} is a tuple of \\texttt{AbstractArray}s, assume \\texttt{f} has the form \\texttt{f(::AbstractArray\\{<:Real\\}...)::Real} (such that it can be called as \\texttt{f(input...)}) and return a \\texttt{Tuple} where the \\texttt{i}th element is the gradient of \\texttt{f} w.r.t. \\texttt{input[i].}\n",
       "\n",
       "Note that \\texttt{cfg} can be preallocated and reused for subsequent calls.\n",
       "\n",
       "If possible, it is highly recommended to use \\texttt{ReverseDiff.GradientTape} to prerecord \\texttt{f}. Otherwise, this method will have to re-record \\texttt{f}'s execution trace for every subsequent call.\n",
       "\n"
      ],
      "text/markdown": [
       "```\n",
       "ReverseDiff.gradient(f, input, cfg::GradientConfig = GradientConfig(input))\n",
       "```\n",
       "\n",
       "If `input` is an `AbstractArray`, assume `f` has the form `f(::AbstractArray{<:Real})::Real` and return `∇f(input)`.\n",
       "\n",
       "If `input` is a tuple of `AbstractArray`s, assume `f` has the form `f(::AbstractArray{<:Real}...)::Real` (such that it can be called as `f(input...)`) and return a `Tuple` where the `i`th element is the gradient of `f` w.r.t. `input[i].`\n",
       "\n",
       "Note that `cfg` can be preallocated and reused for subsequent calls.\n",
       "\n",
       "If possible, it is highly recommended to use `ReverseDiff.GradientTape` to prerecord `f`. Otherwise, this method will have to re-record `f`'s execution trace for every subsequent call.\n"
      ],
      "text/plain": [
       "\u001b[36m  ReverseDiff.gradient(f, input, cfg::GradientConfig = GradientConfig(input))\u001b[39m\n",
       "\n",
       "  If \u001b[36minput\u001b[39m is an \u001b[36mAbstractArray\u001b[39m, assume \u001b[36mf\u001b[39m has the form\n",
       "  \u001b[36mf(::AbstractArray{<:Real})::Real\u001b[39m and return \u001b[36m∇f(input)\u001b[39m.\n",
       "\n",
       "  If \u001b[36minput\u001b[39m is a tuple of \u001b[36mAbstractArray\u001b[39ms, assume \u001b[36mf\u001b[39m has the form\n",
       "  \u001b[36mf(::AbstractArray{<:Real}...)::Real\u001b[39m (such that it can be called as\n",
       "  \u001b[36mf(input...)\u001b[39m) and return a \u001b[36mTuple\u001b[39m where the \u001b[36mi\u001b[39mth element is the gradient of \u001b[36mf\u001b[39m\n",
       "  w.r.t. \u001b[36minput[i].\u001b[39m\n",
       "\n",
       "  Note that \u001b[36mcfg\u001b[39m can be preallocated and reused for subsequent calls.\n",
       "\n",
       "  If possible, it is highly recommended to use \u001b[36mReverseDiff.GradientTape\u001b[39m to\n",
       "  prerecord \u001b[36mf\u001b[39m. Otherwise, this method will have to re-record \u001b[36mf\u001b[39m's execution\n",
       "  trace for every subsequent call."
      ]
     },
     "execution_count": 30,
     "metadata": {},
     "output_type": "execute_result"
    }
   ],
   "source": [
    "?gradient"
   ]
  },
  {
   "cell_type": "code",
   "execution_count": 84,
   "metadata": {
    "scrolled": true
   },
   "outputs": [
    {
     "data": {
      "text/plain": [
       "([1], [1])"
      ]
     },
     "execution_count": 84,
     "metadata": {},
     "output_type": "execute_result"
    }
   ],
   "source": [
    "using ReverseDiff: GradientTape, GradientConfig, gradient, gradient!, compile, DiffResults\n",
    "gradient(f,inputs)"
   ]
  },
  {
   "cell_type": "code",
   "execution_count": 78,
   "metadata": {},
   "outputs": [
    {
     "data": {
      "text/plain": [
       "15"
      ]
     },
     "execution_count": 78,
     "metadata": {},
     "output_type": "execute_result"
    }
   ],
   "source": [
    "f(a,b)"
   ]
  },
  {
   "cell_type": "code",
   "execution_count": 82,
   "metadata": {},
   "outputs": [
    {
     "name": "stdout",
     "output_type": "stream",
     "text": [
      "[0.5316858798236999 0.2740631097681874; 0.16652433772005093 0.19504801676938466]\n"
     ]
    },
    {
     "data": {
      "text/plain": [
       "([5], [10])"
      ]
     },
     "execution_count": 82,
     "metadata": {},
     "output_type": "execute_result"
    }
   ],
   "source": [
    "a, b = rand(2, 2), rand(2, 2)\n",
    "println(a)\n",
    "a,b = [5 6 ;7 8],[10 11 ; 12 13]\n",
    "a,b = [5],[10]\n",
    "inputs=a,b"
   ]
  },
  {
   "cell_type": "code",
   "execution_count": 49,
   "metadata": {
    "scrolled": true
   },
   "outputs": [
    {
     "data": {
      "text/plain": [
       "([5 6; 7 8], [10 11; 12 13])"
      ]
     },
     "execution_count": 49,
     "metadata": {},
     "output_type": "execute_result"
    }
   ],
   "source": [
    "inputs"
   ]
  }
 ],
 "metadata": {
  "kernelspec": {
   "display_name": "Julia 1.5.3",
   "language": "julia",
   "name": "julia-1.5"
  },
  "language_info": {
   "file_extension": ".jl",
   "mimetype": "application/julia",
   "name": "julia",
   "version": "1.5.3"
  }
 },
 "nbformat": 4,
 "nbformat_minor": 4
}
